{
 "cells": [
  {
   "cell_type": "markdown",
   "metadata": {},
   "source": [
    "#Debu\n",
    "\n",
    "- grepping around the object/ directory can often be helpful to understand what part of the source code is actually loaded into your simulation\n",
    "\n",
    "    ``grep -rnw 'object/' -e '<matching-strings>' ``"
   ]
  },
  {
   "cell_type": "markdown",
   "metadata": {},
   "source": [
    "# Debugging"
   ]
  },
  {
   "cell_type": "markdown",
   "metadata": {},
   "source": [
    "#### Multiple Config files"
   ]
  },
  {
   "cell_type": "markdown",
   "metadata": {},
   "source": [
    "When you are looking at simulations inside SimulationsMain/, there may be multiple Config files that load in different packages for one simulation at different levels of the directory. For example, if we look at the example ``SimulationMain/magnetoHD/Torus/`` which simulates an accretion torus (donut) with a point mass (black hole or young star) at its center, when you compile it looks at all the ``Config``s in the other modules:\n",
    "\n",
    "- ``SimulationMain/magnetoHD/Torus/Config`` : loads in gravitational pointmass potential to be place at the center of the Torus\n",
    "- ``SimulationMain/magnetoHD/Config``: loads in 8 wave solver for MHD\n",
    "- ``SimulationMain/Config``: loads in basic Hydro stuff\n"
   ]
  },
  {
   "cell_type": "code",
   "execution_count": null,
   "metadata": {
    "collapsed": true
   },
   "outputs": [],
   "source": [
    "Default hydro solver is PPM."
   ]
  },
  {
   "cell_type": "markdown",
   "metadata": {},
   "source": [
    "#### Quick fixes to simulation files"
   ]
  },
  {
   "cell_type": "markdown",
   "metadata": {},
   "source": [
    "When making small changes to the F90 files, rather than changing the F90 files inside ``SimulationMain/<Simulation-module>/``, it is often faster to change the copy of the F90 source code inside ``object/``, then ``make`` compile the source inside object/. If only the object/flash.par is changed, then no compilation is necessary (which is useful when restarting a run). This also seems to automatically copy the updated F90 files to ``SimulationMain/<Simulation-module>/``, but note that the flash.par will not be updated."
   ]
  },
  {
   "cell_type": "markdown",
   "metadata": {},
   "source": [
    "# Small densities "
   ]
  },
  {
   "cell_type": "code",
   "execution_count": null,
   "metadata": {
    "collapsed": true
   },
   "outputs": [],
   "source": [
    "    INFO: Parameter smallp defined in both\n",
    "    physics/Hydro/HydroMain/unsplit (default 1.E-10) and\n",
    "    Simulation/SimulationMain/RotatingSinkSphere (default 1.e-30)\n",
    "    Simulation instance overrides; removing other instance.\n",
    "\n",
    "    INFO: Parameter smlrho defined in both\n",
    "    physics/Hydro/HydroMain/unsplit (default 1.E-10) and\n",
    "    Simulation/SimulationMain/RotatingSinkSphere (default 1.e-30)\n",
    "    Simulation instance overrides; removing other instance.\n",
    "\n",
    "    INFO: Parameter smallt defined in both\n",
    "    physics/Hydro/HydroMain/unsplit (default 1.E-10) and\n",
    "    Simulation/SimulationMain/RotatingSinkSphere (default 1.e-30)\n",
    "    Simulation instance overrides; removing other instance.\n",
    "\n",
    "    INFO: Parameter tiny defined in both\n",
    "    physics/Hydro/HydroMain/unsplit (default 1.e-16) and\n",
    "    Simulation/SimulationMain/RotatingSinkSphere (default 1.e-30)\n",
    "    Simulation instance overrides; removing other instance.\n",
    "\n",
    "    INFO: Parameter smalle defined in both\n",
    "    Grid/GridMain (default 1.E-10) and\n",
    "    Simulation/SimulationMain/RotatingSinkSphere (default 1.e-30)\n",
    "    Simulation instance overrides; removing other instance."
   ]
  },
  {
   "cell_type": "markdown",
   "metadata": {},
   "source": [
    "# Parallel Runs"
   ]
  },
  {
   "cell_type": "markdown",
   "metadata": {
    "collapsed": true
   },
   "source": [
    "\n",
    "For example, I have 24 processors, then I could assign 2 processor in the x direction, 3 processors in the y direction, 4 processors in the z direction (Check that 2x3x4=24proc)\n",
    "```\n",
    "    iProcs = 2\n",
    "    jProcs = 3\n",
    "    kProcs = 4\n",
    "```\n",
    "\n",
    "As a rule of thumb, if your simulation is symmetric, there is the same amount of work to be done in each direction, so it's best to keep the number of processors in each direction equal, so that the code has an easier time balancing the work load."
   ]
  },
  {
   "cell_type": "markdown",
   "metadata": {},
   "source": [
    "#### \"Too many blocks!  Increase MAXBLOCKS or use more processors.\""
   ]
  },
  {
   "cell_type": "code",
   "execution_count": null,
   "metadata": {
    "collapsed": true
   },
   "outputs": [],
   "source": []
  }
 ],
 "metadata": {
  "kernelspec": {
   "display_name": "Python 2",
   "language": "python",
   "name": "python2"
  },
  "language_info": {
   "codemirror_mode": {
    "name": "ipython",
    "version": 2
   },
   "file_extension": ".py",
   "mimetype": "text/x-python",
   "name": "python",
   "nbconvert_exporter": "python",
   "pygments_lexer": "ipython2",
   "version": "2.7.11"
  }
 },
 "nbformat": 4,
 "nbformat_minor": 0
}
