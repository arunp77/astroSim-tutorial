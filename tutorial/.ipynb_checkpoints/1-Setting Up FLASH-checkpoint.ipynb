{
 "cells": [
  {
   "cell_type": "markdown",
   "metadata": {},
   "source": [
    "# FLASH Workflow"
   ]
  },
  {
   "cell_type": "markdown",
   "metadata": {},
   "source": [
    "Let's say we want to build a simulation of a sphere of constant density undergoing gravitational collapse. We create the directory that contains all the simulation code stored in ``source/Simulation/SimulationMain/UniformSphere``."
   ]
  },
  {
   "cell_type": "markdown",
   "metadata": {},
   "source": [
    "These are the neceesary files for the Simulation module (in the order of most to least commonly modified) that should be in that directory: \n",
    "\n",
    "- __flash.par__: contains the parameters used in the simulation. Technically, you could just write the numerical values of these variables in the F90 code, but flash.par is useful when you just want to make quick changes to the parameters to see what happens without having to recompile the code. For example, if I want to simulate a sphere, I might want to leave its density and radius as a variables in flash.par.\n",
    "\n",
    "- __Simulation_initBlock.F90__: specifies how the initial condition should be set up. (More on this in the next tutorial)    \n",
    "- __Simulation_init.F90__: \n",
    "    Simulation init routine will get the necessary runtime parameters and store them in the Simulation data Fortran module, and also initialize other variables in the module. You can think of this as the code that goes at the top of your Fortran code (#include header files, variable declaration ..).\n",
    "    \n",
    "    Here's a basic template for Simulation_init():\n",
    "    ~~~fortran\n",
    "      subroutine Simulation_init()\n",
    "\n",
    "      use Simulation_data\n",
    "      use Driver_interface, ONLY : Driver_getMype, Driver_abortFlash\n",
    "      use RuntimeParameters_interface, ONLY : RuntimeParameters_get\n",
    "      use Logfile_interface, ONLY : Logfile_stamp\n",
    "      implicit none\n",
    "      #include \"constants.h\"\n",
    "      #include \"Flash.h\"\n",
    "\n",
    "      integer :: myPE, pno, blockID\n",
    "      real    :: pt\n",
    "      logical :: restart\n",
    "\n",
    "      ! do nothing on restart\n",
    "      call RuntimeParameters_get(\"restart\", restart)\n",
    "\n",
    "      call Driver_getMype(GLOBAL_COMM, myPE)\n",
    "      sim_globalMe = myPE\n",
    "      \n",
    "      ! Get Runtime Parameters\n",
    "      call RuntimeParameters_get('beta_param',beta_param) !rotation beta\n",
    "      call RuntimeParameters_get('gamma', sim_gamma)\n",
    "      call RuntimeParameters_get('alpha',alpha) ! thermal-to-magnetic pressure ratio\n",
    "      call Logfile_stamp( \"initializing UniformSphere problem\",  &\n",
    "           \"[Simulation_init]\")\n",
    "      \n",
    "     ~~~\n",
    "For example, ``call RuntimeParameters_get('gamma', sim_gamma)`` to read in the 'gamma' parameter in flash.par into the Fortran variable ``sim_gamma``\n",
    "- __Simulation_data.F90__: tells FLASH which variables to store.\n",
    "    ~~~fortran\n",
    "    module Simulation_data\n",
    "      implicit none\n",
    "      !! Runtime Parameters\n",
    "      real, save :: beta_param,sim_gamma,alpha\n",
    "    end module Simulation_data\n",
    "    ~~~\n",
    "- __Config__: Specifies what types of modules (Sink, MHD, radiation ..etc) you will be loading in for your simulation.\n",
    "    - ``REQUIRES`` specify which modules you need. Generally for Hydro problems, you need:\n",
    "        ~~~fortran\n",
    "        REQUIRES Driver\n",
    "        REQUIRES physics/Eos/EosMain/Gamma\n",
    "        REQUIRES physics/Hydro\n",
    "        ~~~\n",
    "    - ``PARAMETER`` lists all the runtime parameters specific to the problem. You can define a value for these variables in the Config or override these default values in ``flash.par``\n",
    "        ~~~fortran\n",
    "        PARAMETER sim_dens    REAL    1.1E-19\n",
    "        ~~~\n",
    "- __Makefile__ : Usually you don't touch this."
   ]
  },
  {
   "cell_type": "markdown",
   "metadata": {},
   "source": [
    "An example of the UniformSphere problem setup is in **FILELOC**."
   ]
  },
  {
   "cell_type": "markdown",
   "metadata": {},
   "source": [
    "# Compile and run"
   ]
  },
  {
   "cell_type": "markdown",
   "metadata": {},
   "source": [
    "After finishing setting up the problem in these files, it is time to compile your simulation modules."
   ]
  },
  {
   "cell_type": "markdown",
   "metadata": {},
   "source": [
    "###### 1) Load in hdf5 modules (put this inside your .bashrc):  \n",
    "    module load cray-hdf5-parallel/1.8.11\n",
    "##### 2) Setup copies all the code necessary for the simulation into the object/ directory.\n",
    "Note that whatever settings you put in ./setup will override what you put in Config.   \n",
    "\n",
    "    ./setup UniformSphere -3d --maxblock=500  -auto"
   ]
  },
  {
   "cell_type": "markdown",
   "metadata": {},
   "source": [
    "The syntax for running ``setup`` is as follows:\n",
    "    \n",
    "    ./setup <problem-name> [options] [VAR=VALUE]\n",
    "    \n",
    "Here are some setup parameters that I think is important: \n",
    "    \n",
    "- **-3d** : 3D simulation, otherwise default is -2d. \n",
    "   \n",
    "- **+usm**: Unsplit Staggered Mesh Solver : use this with sink particles, doesn't work very well with MHD.    \n",
    "   \n",
    "- **--maxblock ** : The maximum number of blocks per processor. FLASH will try to allocate enough memory upon initialization for this many blocks, so its better to keep this number low <500, but it depends on the simulation and the number of cores that you are using. \n",
    "- **-auto**: A \"catch-all\" flag that sets up the problem the way FLASH think it should be setup, this can be dangerous and you should always check the top of the object/*.log file after you start the simulation, to check that the setup parameters correspond to what you think should be loaded.\n",
    "\n",
    "For a detailed list of things that you could input into setup, enter ``./setup -h``."
   ]
  },
  {
   "cell_type": "markdown",
   "metadata": {},
   "source": [
    "###### 3) Compile the code in object/\n",
    "   \n",
    "   \n",
    "make -j <num-proc> : Running make in parallel to compile the code into the object/ directory \n",
    "\n",
    "All in one line : ``./setup UniformSphere -3d --maxblock=500  -auto ; cd object/;make -j8;cd ..;``"
   ]
  }
 ],
 "metadata": {
  "kernelspec": {
   "display_name": "Python 2",
   "language": "python",
   "name": "python2"
  },
  "language_info": {
   "codemirror_mode": {
    "name": "ipython",
    "version": 2
   },
   "file_extension": ".py",
   "mimetype": "text/x-python",
   "name": "python",
   "nbconvert_exporter": "python",
   "pygments_lexer": "ipython2",
   "version": "2.7.11"
  }
 },
 "nbformat": 4,
 "nbformat_minor": 0
}
