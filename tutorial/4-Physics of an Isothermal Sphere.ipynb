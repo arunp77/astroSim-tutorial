{
 "cells": [
  {
   "cell_type": "markdown",
   "metadata": {},
   "source": [
    "### Foster and  Chevalier setup "
   ]
  },
  {
   "cell_type": "markdown",
   "metadata": {},
   "source": [
    "Foster and Chevalier (1993) sets up an isothermal sphere that has constant external pressure on its outer edge. The density on the outside is decreased so that the sound speed in the outer region is 1000 times larger than the sound speed inside the inner region. \n",
    "\n",
    " $$P =\\rho C_s^2 \\rightarrow \\rho_{out} = 10^{6} \\rho_{edge}$$ \n",
    " \n",
    " where $\\rho_{edge}$ is the density at the edge of the cloud. Since the Lane-Emden solution is monotonically decreasing, this is simply the minimum density of the sphere, which is $7.31\\times 10^{-22}$ for our setup. By the ideal gas law $T_{out}=10^6T_{in} = 10^7K$. "
   ]
  },
  {
   "cell_type": "code",
   "execution_count": 34,
   "metadata": {
    "collapsed": false
   },
   "outputs": [],
   "source": [
    "from yt.units import g,cm,K,s\n",
    "from yt.utilities.physical_constants import kboltz , mp,G"
   ]
  },
  {
   "cell_type": "code",
   "execution_count": 20,
   "metadata": {
    "collapsed": false
   },
   "outputs": [
    {
     "name": "stdout",
     "output_type": "stream",
     "text": [
      "rho_out =  7.31207875416e-16 g/cm**3\n"
     ]
    }
   ],
   "source": [
    "rho_edge  = 7.312078754161586E-022*g/cm**3\n",
    "print \"rho_out = \",rho_edge*1e6"
   ]
  },
  {
   "cell_type": "markdown",
   "metadata": {},
   "source": [
    "Therefore, to find P_out\n",
    " $$P_{out}=P_{edge} =  \\Bigg(\\frac{\\rho_{edge} k T_{in}}{m_p}\\Bigg) $$"
   ]
  },
  {
   "cell_type": "code",
   "execution_count": 19,
   "metadata": {
    "collapsed": false
   },
   "outputs": [
    {
     "name": "stdout",
     "output_type": "stream",
     "text": [
      "P_out = 6.03166654669e-13 erg/cm**3\n"
     ]
    }
   ],
   "source": [
    "T_in = 10*K\n",
    "print \"P_out =\", rho_edge*(kboltz*T_in/mp)"
   ]
  },
  {
   "cell_type": "markdown",
   "metadata": {},
   "source": [
    "The inside density $\\rho(r)$ is simply given by the Lane-Emden equation times $\\rho_c =1.1\\times10^{-19} g/cm^3$ corresponding to the initial cloud density in Larson (1969). The inside pressure is obtained by ideal gas law using the observational value for $T_{in}=10K$, \n",
    "$$P_{inside}=\\Bigg(\\frac{\\rho kT_{in}}{m_p}\\Bigg)$$"
   ]
  },
  {
   "cell_type": "code",
   "execution_count": 27,
   "metadata": {
    "collapsed": false
   },
   "outputs": [
    {
     "name": "stdout",
     "output_type": "stream",
     "text": [
      "P_in = rho*8.25e+08\n"
     ]
    }
   ],
   "source": [
    "print \"P_in = rho*%.2e\"%(kboltz*T_in/mp)"
   ]
  },
  {
   "cell_type": "markdown",
   "metadata": {},
   "source": [
    "In the linear interpolation part of the code, we compute the values using the non-dimensional radius scheme: \n",
    "\n",
    "$$\\xi =\\Bigg[ \\Bigg(\\frac{\\sqrt{4\\pi G\\rho_c}}{a}\\Bigg)\\Bigg]r $$ where a = 28731cm/s. is sound speed (computed from $T_{in}$=10K)\n",
    "\n"
   ]
  },
  {
   "cell_type": "code",
   "execution_count": 36,
   "metadata": {
    "collapsed": false,
    "scrolled": true
   },
   "outputs": [
    {
     "name": "stdout",
     "output_type": "stream",
     "text": [
      "rc = 1.057e-17 rr\n"
     ]
    }
   ],
   "source": [
    "rho_c = 1.1e-19\n",
    "c_s = 28730*cm/s\n",
    "print \"rc = %.3e rr\"%(sqrt(4*pi*G*rho_c)/c_s)"
   ]
  },
  {
   "cell_type": "markdown",
   "metadata": {},
   "source": [
    "For a visual check, in the pressure plot the outer region of the dense core should be the same color as the ambient, since $P_{out}=P_{edge}$."
   ]
  },
  {
   "cell_type": "markdown",
   "metadata": {
    "collapsed": true
   },
   "source": [
    "### Sphere Fattening"
   ]
  },
  {
   "cell_type": "markdown",
   "metadata": {},
   "source": [
    "Using the Foster and Chevalier setup, we find that the code takes a long time to track the full evolution of the sphere, because of the extremely high temperature outside ($10^7K$). Therefore, we decided to make outside temperature cooler. We still have to maintain the condition that $P_{edge} = P_{out}$, so that implies that if the outside temperature decreasess then the density must increase accordingly. This is why we call the process \"fattening\", when we multiply the density everywhere in the simulation by a ``fattening_factor``. Since the Lane-Emden solution is self simmilar, multiplying the inside density by a constant factor would not matter. The original outside density is already very low ($\\approx 10^{-26} g/cm^3$ ), so multiplying it by a ``fattening_factor`` should also not affect the sphere's behaviour by much."
   ]
  },
  {
   "cell_type": "markdown",
   "metadata": {},
   "source": [
    "### Free fall time \n",
    "\n",
    "To estimate how long your simulation is going to take, use the free fall time as an order-of-magnitude estimate: \n",
    "\n",
    "$$t_{ff} = \\sqrt{\\frac{3\\pi}{32G\\rho}}$$\n",
    "\n",
    "We could check that this agrees with the ``ds.current_time`` of the last timestep in the simulation."
   ]
  },
  {
   "cell_type": "markdown",
   "metadata": {},
   "source": [
    "## Reference: \n",
    "\n",
    "[1] P. N. Foster, R. A. Chevalier. Gravitational Collapse of an Isothermal Sphere. ApJ 416, 303-311 (1993).\n",
    "\n",
    "[2] R. B. Larson. Numerical Calculations of the Dynamics of a Collapsing Proto-Star. MNRAS 145, 271–295 (1969). [Link](http://mnras.oxfordjournals.org/content/145/3/271)"
   ]
  }
 ],
 "metadata": {
  "kernelspec": {
   "display_name": "Python 2",
   "language": "python",
   "name": "python2"
  },
  "language_info": {
   "codemirror_mode": {
    "name": "ipython",
    "version": 2
   },
   "file_extension": ".py",
   "mimetype": "text/x-python",
   "name": "python",
   "nbconvert_exporter": "python",
   "pygments_lexer": "ipython2",
   "version": "2.7.11"
  }
 },
 "nbformat": 4,
 "nbformat_minor": 0
}
