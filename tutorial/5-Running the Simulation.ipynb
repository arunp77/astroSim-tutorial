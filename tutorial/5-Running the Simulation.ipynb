{
 "cells": [
  {
   "cell_type": "markdown",
   "metadata": {},
   "source": [
    "# Setup\n",
    "\n",
    "\n",
    "The ``./setup`` coopies the codes for the necessary modules (specified in ``Config`` and the setup flags) into the ``object/`` directory. After setup, you also need to compile the F90 code.\n",
    "    \n",
    "    ./setup Sphere -3d -auto \n",
    "    cd object/\n",
    "    make -j8\n",
    "    cd ..\n",
    "    \n",
    "    \n",
    "You can find a [list of setup flags here](http://flash.uchicago.edu/site/flashcode/user_support/flash4_ug_4p3/node9.html#SECTION03220000000000000000). Note that whatever you put inside setup overrides your settings in Config, so make sure to understand what you're loading in. One important setting is the settings for which solver to use (``+usm, +8wave``..etc), the default hydro solver is PPM."
   ]
  },
  {
   "cell_type": "markdown",
   "metadata": {},
   "source": [
    "# Running FLASH"
   ]
  },
  {
   "cell_type": "markdown",
   "metadata": {
    "collapsed": true
   },
   "source": [
    "The simulation setup is compiled into the executable ``./flash4`` inside objects. You can just run ``./flash4 `` on its own if you are only running on a single processor. However, if you have compiled the simulation with MPI, then you need to properly submit it through the batch scheduling system that your supercomputer center uses.\n",
    "\n",
    "### Job Submission\n",
    "\n",
    "This is an example of SLURM job submission script in ``scripts/job.pbs``:\n",
    "\n",
    "~~~bash\n",
    "#!/bin/bash -l\n",
    "#SBATCH -p debug \n",
    "#SBATCH -n 512\n",
    "#SBATCH -o %j.out\n",
    "#SBATCH -e %j.err\n",
    "#SBATCH --qos=normal\n",
    "#SBATCH -t 00:30:00\n",
    "#SBATCH -J flash\n",
    "#SBATCH -L SCRATCH\n",
    "cd /global/project/projectdirs/astro250/dlee/FLASH4.3/object\n",
    "srun -n 512 ./flash4\n",
    "~~~\n",
    "\n",
    "To submit this, run: \n",
    "\n",
    "    sbatch job.pbs"
   ]
  },
  {
   "cell_type": "markdown",
   "metadata": {},
   "source": [
    "## Boundary Conditions\n",
    "The boundary conditions for our problem is outflow in the x and y direction, but periodic in the z direction. The periodic BC in the z direction is motivated by the fact that observationally dense cores tend to reside in strands of high-density gas"
   ]
  }
 ],
 "metadata": {
  "kernelspec": {
   "display_name": "Python 2",
   "language": "python",
   "name": "python2"
  },
  "language_info": {
   "codemirror_mode": {
    "name": "ipython",
    "version": 2
   },
   "file_extension": ".py",
   "mimetype": "text/x-python",
   "name": "python",
   "nbconvert_exporter": "python",
   "pygments_lexer": "ipython2",
   "version": "2.7.11"
  }
 },
 "nbformat": 4,
 "nbformat_minor": 0
}
