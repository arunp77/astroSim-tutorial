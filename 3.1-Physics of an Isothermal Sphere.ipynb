{
 "cells": [
  {
   "cell_type": "markdown",
   "metadata": {},
   "source": [
    "Our goal is to simulate a isothermal sphere undergoing gravitational collapse. We can write down the force balance equation for the sphere, which describes the competition between gravitational infall versus thermal pressure support.\n",
    "$$ -\\frac{1}{\\rho}\\nabla P -\\nabla \\Phi_g =0$$\n",
    "Using Poisson's equation ($\\nabla \\Phi_g^2 =4\\pi G \\rho$) and the isothermal equation of state ($P = \\rho a_T^2$), we can rearrange the equation to the form of the isothermal Lane-Emden equation: \n",
    "\n",
    "\n",
    "$$\\frac{1}{\\psi^2} \\frac{d}{d\\psi}\\Bigg(\\xi^2 \\frac{d\\psi}{d\\xi}\\Bigg)=e^{-\\psi}$$\n",
    "Using product rule, we can rewrite the Lane-Emden equation as: \n",
    "\\begin{align}\n",
    "\\frac{d^2\\psi}{d\\xi^2}+\\frac{2}{\\xi}\\frac{d\\psi}{d\\xi}=e^{-\\psi}\n",
    "\\end{align}\n",
    "with boundary conditions as: $\\psi(0)=0$ and $\\frac{d\\psi}{d\\xi}(0)=0$.\n",
    "\n",
    "The Lane-Emden equation describes a family of solution based on the single parameter $\\xi_{max}$, which specifies the cloud radius and determine the density contrast $\\rho_c/\\rho_0$ (ratio between central density and edge of the sphere). Analytically, the sphere is marginally stable (i.e. just at the verge of collpasing) when $\\rho_c/\\rho_0$=14.1 [1]. This marginally-stable state is called the Bonner-Ebert sphere. Numerically, we can see that a cloud radius of  $\\xi$=6.451 corresponds to a density contrast of $\\rho_c/\\rho_0$=14.038. The singular isothermal sphere case corresponds to $\\xi_{max}=\\infty$. \n",
    "\n",
    "We want to solve the Lane-Emden equation to figure out what is the density distribution that yields a marginally-stable sphere, but the Lane-Emden solution can not be solved in closed form, so instead we need to do numerical intergration to get the solution. "
   ]
  },
  {
   "cell_type": "code",
   "execution_count": 3,
   "metadata": {
    "collapsed": false
   },
   "outputs": [
    {
     "name": "stdout",
     "output_type": "stream",
     "text": [
      "Populating the interactive namespace from numpy and matplotlib\n"
     ]
    }
   ],
   "source": [
    "%pylab inline"
   ]
  },
  {
   "cell_type": "markdown",
   "metadata": {},
   "source": [
    "We start integrating at a small poisitive number (1e-6) to avoid div-by-0 error and integrate up to xi_max, with interval of $\\Delta \\xi$ = 0.01."
   ]
  },
  {
   "cell_type": "code",
   "execution_count": 79,
   "metadata": {
    "collapsed": false
   },
   "outputs": [],
   "source": [
    "xi_max = 6.451\n",
    "from scipy import integrate\n",
    "def solvr(Y, t):\n",
    "    return [Y[1], exp(-Y[0])-2/t*Y[1]]\n",
    "xi = np.arange(1e-6, xi_max, 0.01)\n",
    "IC = [0, 0] # initial conditions for psi and psi prime\n",
    "psi = integrate.odeint(solvr, IC, xi)"
   ]
  },
  {
   "cell_type": "markdown",
   "metadata": {},
   "source": [
    "For a spherically symmetric cloud, $\\rho(r)=\\rho_c e^{-\\psi}$, so we can use the numerically integrated results for $\\psi$ to compute the density profile."
   ]
  },
  {
   "cell_type": "code",
   "execution_count": 65,
   "metadata": {
    "collapsed": false
   },
   "outputs": [
    {
     "data": {
      "text/plain": [
       "<matplotlib.legend.Legend at 0x7f3b6692ba50>"
      ]
     },
     "execution_count": 65,
     "metadata": {},
     "output_type": "execute_result"
    },
    {
     "data": {
      "image/png": "[encoded data removed]",
      "text/plain": [
       "<matplotlib.figure.Figure at 0x7f3b668c80d0>"
      ]
     },
     "metadata": {},
     "output_type": "display_data"
    }
   ],
   "source": [
    "rho = np.exp(-psi[:,0]) \n",
    "plt.plot(xi,psi[:,0],label ='$\\psi$')\n",
    "plt.plot(xi,rho,label =r'$\\rho/\\rho_c$') \n",
    "plt.xlabel(r\"$\\xi$\",fontsize=15)\n",
    "plt.xlim(0,xi_max)\n",
    "from matplotlib.legend_handler import HandlerLine2D\n",
    "plt.legend(loc='upper left',prop={'size':13},numpoints=1)"
   ]
  },
  {
   "cell_type": "markdown",
   "metadata": {},
   "source": [
    "Note that since ``rmax`` is the only parameter that needs to be adjusted for different models of the Lane-Emden solution. To make sure that the boundary of the sphere is properly filled with the Bonnert-Ebert values, we extend the density profile in ``density.txt`` to $\\xi$= 20. "
   ]
  },
  {
   "cell_type": "code",
   "execution_count": 80,
   "metadata": {
    "collapsed": true
   },
   "outputs": [],
   "source": [
    "xi = np.arange(1e-6, 20, 0.01) \n",
    "psi = integrate.odeint(solvr, IC, xi)\n",
    "rho = np.exp(-psi[:,0]) \n",
    "np.savetxt(\"FLASH_4.3/density.txt\",rho)"
   ]
  },
  {
   "cell_type": "markdown",
   "metadata": {},
   "source": [
    "Now we have a 1D array of non-dimensional density values from numerical integration, we need to assign each cell in the simulation box with the density values that corresponds to the right $\\rho(r)$. Since we are working with a radial distribution on a cartesian grid, we don't have the exact radius value at each cell, so need to do linear interpolation to map the cells to somewhere between their closest density values. As explained by [Wikipedia](https://en.wikipedia.org/wiki/Linear_interpolation), linear interpolation basically weighs what the predicted values are, based on how close the x values lie to the previous and subseqeunt datapoints. In our case, \n",
    "\n",
    "$$ \\rho(r) = \\rho_0 + (\\rho_1-\\rho_0)\\frac{r-r_0}{r_1-r_0}$$"
   ]
  },
  {
   "cell_type": "markdown",
   "metadata": {},
   "source": [
    "Translating this into our Simulation_init.F90 and picking dr ($\\Delta \\xi$) as 0.01 to correspond with np.arange used in the numerical integration: "
   ]
  },
  {
   "cell_type": "markdown",
   "metadata": {},
   "source": [
    "    if (rc <= rmax) then\n",
    "       rc0 = int(rc/dr)+1 !to prevent from hitting index 0 which is yields zero density\n",
    "       rho0 =  rho_c*dens_arr(rc0,1)\n",
    "       rho1 = rho_c*dens_arr(rc0+1,1)\n",
    "       rc0 = rc0*dr\n",
    "       rc1 = rc0+dr\n",
    "       rhoZone = fattening_factor*(rho0+(rho1-rho0)*(rc-rc0)/(rc1-rc0) )!linear interpolation"
   ]
  },
  {
   "cell_type": "markdown",
   "metadata": {},
   "source": [
    "Simulation_init.F90 reads in values up to ``rmax`` $\\xi$= 16.90 for initialize the sphere, note that this has a much higher density contrast than the Bonner-Ebert sphere. This ensures that the sphere in our toy problem will actually collapse in a short time. We also multiply the sphere's density by a \"fattening_factor\" of 100 for the same reason."
   ]
  },
  {
   "cell_type": "code",
   "execution_count": 97,
   "metadata": {
    "collapsed": false
   },
   "outputs": [
    {
     "name": "stdout",
     "output_type": "stream",
     "text": [
      "At xi =  16.900001\n",
      "Density is:  7.2918475616e-20 g/cm^3\n",
      "density contrast is  150.853400418\n"
     ]
    }
   ],
   "source": [
    "idx = np.where(np.isclose(xi,16.9))[0][0]\n",
    "print \"At xi = \", xi[idx]\n",
    "print \"Density is: \", rho[idx]*rho_c, \"g/cm^3\"\n",
    "print \"density contrast is \", 1./rho[idx]"
   ]
  },
  {
   "cell_type": "markdown",
   "metadata": {},
   "source": [
    "We can now run our simulation to check that the sphere is initialized with the right density distribution."
   ]
  },
  {
   "cell_type": "code",
   "execution_count": 21,
   "metadata": {
    "collapsed": false
   },
   "outputs": [
    {
     "name": "stdout",
     "output_type": "stream",
     "text": [
      "/global/u2/d/dorislee/dlee/FLASH4.3/object\n"
     ]
    }
   ],
   "source": [
    "cd ~/dlee/FLASH4.3/object/"
   ]
  },
  {
   "cell_type": "code",
   "execution_count": 30,
   "metadata": {
    "collapsed": true
   },
   "outputs": [],
   "source": [
    "import yt\n",
    "from matplotlib.legend_handler import HandlerLine2D\n",
    "from mpl_toolkits.axes_grid1 import AxesGrid\n",
    "from yt.mods import *\n",
    "yt.mylog.setLevel(50)"
   ]
  },
  {
   "cell_type": "code",
   "execution_count": 77,
   "metadata": {
    "collapsed": true
   },
   "outputs": [],
   "source": [
    "def compareplot1Dprofile(timestep):\n",
    "    fattening_factor=100\n",
    "    rho_c = 1.1e-19*fattening_factor\n",
    "    pf= yt.load(\"sphere_hdf5_chk_{}\".format(str(timestep).zfill(4)))\n",
    "    sp = pf.sphere(pf.domain_center, (0.32,\"pc\"))\n",
    "    rp = yt.create_profile(sp,'radius','density')\n",
    "    plt.plot(rp.x.value*1.05e-17,rp[\"density\"].in_units(\"g/cm**3\").value/rho_c,label=\"Simulation\")\n",
    "    xi_max = 6.451\n",
    "    def solvr(Y, t):\n",
    "        return [Y[1], exp(-Y[0])-2/t*Y[1]]\n",
    "    xi = np.arange(1e-6, xi_max, 0.01) #start at small poisitive number to avoid div-by-0\n",
    "    psi = integrate.odeint(solvr, [0, 0], xi)\n",
    "    rho = np.exp(-psi[:,0])  \n",
    "    plt.plot(xi,rho,\"--\",label ='Integration',color=\"red\",linewidth=5)\n",
    "    plt.xlabel(r\"$\\xi$\",fontsize=15)\n",
    "    plt.ylabel(r\"$\\rho/\\rho_c$\",fontsize=15)\n",
    "    plt.legend(loc='upper right',prop={'size':12},numpoints=1)"
   ]
  },
  {
   "cell_type": "code",
   "execution_count": 78,
   "metadata": {
    "collapsed": false
   },
   "outputs": [
    {
     "data": {
      "image/png": "[encoded data removed]",
      "text/plain": [
       "<matplotlib.figure.Figure at 0x7f3b6809b850>"
      ]
     },
     "metadata": {},
     "output_type": "display_data"
    }
   ],
   "source": [
    "compareplot1Dprofile(0)"
   ]
  },
  {
   "cell_type": "markdown",
   "metadata": {},
   "source": [
    "For more information on numerical integration using scipy see [Nathan Typanski's tutorial on solving the damped harmonic oscillator ODE](http://www.nathantypanski.com/blog/2014-08-23-ode-solver-py.html). "
   ]
  },
  {
   "cell_type": "code",
   "execution_count": 101,
   "metadata": {
    "collapsed": false
   },
   "outputs": [
    {
     "data": {
      "text/plain": [
       "7.2918475616032769e-20"
      ]
     },
     "execution_count": 101,
     "metadata": {},
     "output_type": "execute_result"
    }
   ],
   "source": [
    "rho[1690]*rho_c"
   ]
  },
  {
   "cell_type": "code",
   "execution_count": null,
   "metadata": {
    "collapsed": true
   },
   "outputs": [],
   "source": [
    "The problem setup "
   ]
  },
  {
   "cell_type": "code",
   "execution_count": null,
   "metadata": {
    "collapsed": true
   },
   "outputs": [],
   "source": [
    "See FCSphere/ "
   ]
  },
  {
   "cell_type": "markdown",
   "metadata": {},
   "source": [
    "## Reference: \n",
    "\n",
    "[1] P. N. Foster, R. A. Chevalier. Gravitational Collapse of an Isothermal Sphere. ApJ 416, 303-311 (1993).\n",
    "\n",
    "[2] R. B. Larson. Numerical Calculations of the Dynamics of a Collapsing Proto-Star. MNRAS 145, 271–295 (1969). [Link](http://mnras.oxfordjournals.org/content/145/3/271)"
   ]
  }
 ],
 "metadata": {
  "kernelspec": {
   "display_name": "Python 2",
   "language": "python",
   "name": "python2"
  },
  "language_info": {
   "codemirror_mode": {
    "name": "ipython",
    "version": 2
   },
   "file_extension": ".py",
   "mimetype": "text/x-python",
   "name": "python",
   "nbconvert_exporter": "python",
   "pygments_lexer": "ipython2",
   "version": "2.7.11"
  }
 },
 "nbformat": 4,
 "nbformat_minor": 0
}
