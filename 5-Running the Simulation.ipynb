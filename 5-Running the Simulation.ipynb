{
 "cells": [
  {
   "cell_type": "markdown",
   "metadata": {},
   "source": [
    "# Setup\n",
    "\n",
    "\n",
    "The ``./setup`` coopies the codes for the necessary modules (specified in ``Config`` and the setup flags) into the ``object/`` directory. After setup, you also need to compile the F90 code.\n",
    "    \n",
    "    ./setup Sphere -3d -auto \n",
    "    cd object/\n",
    "    make -j8\n",
    "    cd .."
   ]
  },
  {
   "cell_type": "markdown",
   "metadata": {},
   "source": [
    "# Running FLASH"
   ]
  },
  {
   "cell_type": "code",
   "execution_count": null,
   "metadata": {
    "collapsed": true
   },
   "outputs": [],
   "source": [
    "See the tutorial on "
   ]
  },
  {
   "cell_type": "markdown",
   "metadata": {},
   "source": [
    "### Job Submission"
   ]
  },
  {
   "cell_type": "markdown",
   "metadata": {},
   "source": [
    "Example of SLURM job submission script is in ``scripts/job.pbs``:"
   ]
  },
  {
   "cell_type": "markdown",
   "metadata": {},
   "source": [
    "~~~bash\n",
    "#!/bin/bash -l\n",
    "#SBATCH -p debug \n",
    "#SBATCH -n 512\n",
    "#SBATCH -o %j.out\n",
    "#SBATCH -e %j.err\n",
    "#SBATCH --qos=normal\n",
    "#SBATCH -t 00:30:00\n",
    "#SBATCH -J flash\n",
    "#SBATCH -L SCRATCH\n",
    "cd /global/project/projectdirs/astro250/dlee/FLASH4.3/object\n",
    "srun -n 512 ./flash4\n",
    "~~~"
   ]
  },
  {
   "cell_type": "markdown",
   "metadata": {},
   "source": [
    "To submit this, run: \n",
    "\n",
    "    sbatch job.pbs"
   ]
  },
  {
   "cell_type": "markdown",
   "metadata": {},
   "source": [
    "## Boundary Conditions\n",
    "The boundary conditions for our problem is outflow in the x and y direction, but periodic in the z direction. The periodic BC in the z direction is motivated by the fact that observationally dense cores tend to reside in strands of high-density gas"
   ]
  },
  {
   "cell_type": "markdown",
   "metadata": {},
   "source": [
    "# Simulation small values "
   ]
  },
  {
   "cell_type": "raw",
   "metadata": {},
   "source": [
    "Computing default values for options not specified on command line\n",
    "\n",
    "    INFO: Parameter smallt defined in both\n",
    "    physics/Hydro/HydroMain/split/PPM (default 1.E-10) and\n",
    "    Simulation/SimulationMain/FatFosterChevalier (default 1.e-30)\n",
    "    Simulation instance overrides; removing other instance.\n",
    "\n",
    "    INFO: Parameter smallp defined in both\n",
    "    physics/Hydro/HydroMain/split/PPM (default 1.E-10) and\n",
    "    Simulation/SimulationMain/FatFosterChevalier (default 1.e-30)\n",
    "    Simulation instance overrides; removing other instance.\n",
    "\n",
    "    INFO: Parameter smlrho defined in both\n",
    "    physics/Hydro/HydroMain/split/PPM (default 1.E-10) and\n",
    "    Simulation/SimulationMain/FatFosterChevalier (default 1.e-30)\n",
    "    Simulation instance overrides; removing other instance.\n",
    "\n",
    "    INFO: Parameter smalle defined in both\n",
    "    physics/Hydro/HydroMain/split/PPM (default 1.E-10) and\n",
    "    Simulation/SimulationMain/FatFosterChevalier (default 1.e-30)\n",
    "    Simulation instance overrides; removing other instance."
   ]
  },
  {
   "cell_type": "markdown",
   "metadata": {},
   "source": [
    "tiny,smalle,smlrho ... are specified inside Config"
   ]
  },
  {
   "cell_type": "markdown",
   "metadata": {},
   "source": [
    "# Timestepping"
   ]
  },
  {
   "cell_type": "markdown",
   "metadata": {},
   "source": [
    "There are two types of timesteps in FLASH and should not be confused as each "
   ]
  },
  {
   "cell_type": "code",
   "execution_count": null,
   "metadata": {
    "collapsed": true
   },
   "outputs": [],
   "source": []
  }
 ],
 "metadata": {
  "kernelspec": {
   "display_name": "Python 2",
   "language": "python",
   "name": "python2"
  },
  "language_info": {
   "codemirror_mode": {
    "name": "ipython",
    "version": 2
   },
   "file_extension": ".py",
   "mimetype": "text/x-python",
   "name": "python",
   "nbconvert_exporter": "python",
   "pygments_lexer": "ipython2",
   "version": "2.7.11"
  }
 },
 "nbformat": 4,
 "nbformat_minor": 0
}
