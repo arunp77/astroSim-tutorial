{
 "cells": [
  {
   "cell_type": "markdown",
   "metadata": {},
   "source": [
    "Observationally, dense cores are often found in strands of high density gas with magnetic field through them. In the ``MHDSphere`` example, we try to model this by initializing a magnetic field in the z direction through our rotating, collapsing sphere."
   ]
  },
  {
   "cell_type": "markdown",
   "metadata": {},
   "source": [
    "![test](https://github.com/dorisjlee/remote/blob/master/astroSim-tutorial-img/hourglass.png?raw=True)\n",
    "\n",
    "Hourglass-shaped magnetic field in dense core NGC 1333 IRAS 4A ([Girart et al., 2006](https://www.cfa.harvard.edu/sma/research/imageGallery/sciPages/JGirart/))"
   ]
  },
  {
   "cell_type": "markdown",
   "metadata": {},
   "source": [
    "The strength of the magnetic field is often characterized by the variable $\\beta$ (so-called `plasma beta'). Since we have already used $\\beta$ for the rotation parameter, let's use $\\alpha$ instead. \n",
    "\n",
    "The magnetic field exerts a pressure on the gas with magnitude (cgs)\n",
    "$$ P_{B} = B^2/8\\pi, $$\n",
    "where $B$ is the magnitude of the magnetic field $B=|\\vec{B}|$. The ratio of the thermal pressure to the magnetic pressure is the plasma `$\\alpha$':\n",
    "$$ \\alpha = \\frac{P_T}{P_B} = \\frac{\\rho c^2}{B^2/8\\pi}\\ .$$\n",
    "where $P_T$ is the thermal pressure.\n",
    " So it is easily shown that the magnetic field is determined by the single parameter $\\alpha$,\n",
    "$$B=\\sqrt{\\frac{8\\pi P_T}{\\alpha}}$$\n",
    "Small values of $\\alpha$ imply strong magnetic fields. Observations of clouds typically reveal $\\alpha$ values $\\leq 1$, implying that the magnetic field can play a dynamic role in the star formation process. \n",
    "\n",
    "In setting up the initial magnetic field, you can use the equation above to solve for $B$ as a function of $\\alpha$, $\\rho$, and $c_s$. For simple initial conditions, try setting up a uniform magnetic field in the $z$-direction. In that case $B_z=B$. \n",
    "\n",
    "We first try doing the simulation without rotation ($\\beta=0$) with a strong magnetic field ($\\alpha \\sim 0.1$).\n",
    "\n"
   ]
  },
  {
   "cell_type": "markdown",
   "metadata": {},
   "source": [
    "# Initializing magnetic fields in Simulation_initBlock"
   ]
  },
  {
   "cell_type": "code",
   "execution_count": null,
   "metadata": {
    "collapsed": true
   },
   "outputs": [],
   "source": []
  },
  {
   "cell_type": "markdown",
   "metadata": {},
   "source": [
    "# Setting up MHD in FLASH "
   ]
  },
  {
   "cell_type": "markdown",
   "metadata": {},
   "source": [
    "There are two types of MHD solvers in FLASH: the 8 wave solver and the unsplit staggered mesh solver. Our experience caused magnetic fields to become very small during the simulation and the 8 wave solver seems to resolve that issue. To use these solvers include the flag +8wave in ./setup: \n",
    "\n"
   ]
  },
  {
   "cell_type": "markdown",
   "metadata": {},
   "source": [
    "# Analyzing MHD data with yt"
   ]
  },
  {
   "cell_type": "markdown",
   "metadata": {},
   "source": [
    "During MHD runs, FLASH stores 3 extra variable for $B_{x,y,z}$. We can look at the derived field to see some additional interesting fields: "
   ]
  },
  {
   "cell_type": "code",
   "execution_count": null,
   "metadata": {
    "collapsed": true
   },
   "outputs": [],
   "source": [
    "slc.annotate_magnetic_field()"
   ]
  },
  {
   "cell_type": "markdown",
   "metadata": {},
   "source": [
    "Note that FLASH solves the MHD equations in non-dimensional scheme, which means that $B_{\\rm simulation} = \\frac{B_{\\rm actual}}{\\sqrt{4\\pi}}$. By default, yt assumes cgs and does not recognize this factor of $\\sqrt{4\\pi}$ when computing the magnetic pressure and strengths, so we need to include this factor. We can check that $\\alpha$ correspond to our input parameter : \n"
   ]
  },
  {
   "cell_type": "markdown",
   "metadata": {},
   "source": [
    "\n"
   ]
  }
 ],
 "metadata": {
  "kernelspec": {
   "display_name": "Python 2",
   "language": "python",
   "name": "python2"
  },
  "language_info": {
   "codemirror_mode": {
    "name": "ipython",
    "version": 2
   },
   "file_extension": ".py",
   "mimetype": "text/x-python",
   "name": "python",
   "nbconvert_exporter": "python",
   "pygments_lexer": "ipython2",
   "version": "2.7.11"
  }
 },
 "nbformat": 4,
 "nbformat_minor": 0
}
