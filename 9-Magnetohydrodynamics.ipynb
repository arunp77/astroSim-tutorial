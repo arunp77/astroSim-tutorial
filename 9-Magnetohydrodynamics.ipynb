{
 "cells": [
  {
   "cell_type": "markdown",
   "metadata": {},
   "source": [
    "Observationally, dense cores are often found in strands of high density gas with magnetic field through them. In the ``MHDSphere`` example, we try to model this by initializing a magnetic field in the z direction through our rotating, collapsing sphere."
   ]
  },
  {
   "cell_type": "markdown",
   "metadata": {},
   "source": [
    "![test](https://github.com/dorisjlee/remote/blob/master/astroSim-tutorial-img/hourglass.png?raw=True)\n",
    "\n",
    "Hourglass-shaped magnetic field in dense core NGC 1333 IRAS 4A ([Girart et al., 2006](https://www.cfa.harvard.edu/sma/research/imageGallery/sciPages/JGirart/))"
   ]
  },
  {
   "cell_type": "markdown",
   "metadata": {},
   "source": [
    "The strength of the magnetic field is often characterized by the variable $\\beta$ (so-called `plasma beta'). Since we have already used $\\beta$ for the rotation parameter, let's use $\\alpha$ instead. \n",
    "\n",
    "The magnetic field exerts a pressure on the gas with magnitude (cgs)\n",
    "$$ P_{B} = B^2/8\\pi, $$\n",
    "where $B$ is the magnitude of the magnetic field $B=|\\vec{B}|$. The ratio of the thermal pressure to the magnetic pressure is the plasma `$\\alpha$':\n",
    "$$ \\alpha = \\frac{P_T}{P_B} = \\frac{\\rho c^2}{B^2/8\\pi}\\ .$$\n",
    "where $P_T$ is the thermal pressure.\n",
    " So it is easily shown that the magnetic field is determined by the single parameter $\\alpha$,\n",
    "$$B=\\sqrt{\\frac{8\\pi P_T}{\\alpha}}$$\n",
    "Small values of $\\alpha$ imply strong magnetic fields. Observations of clouds typically reveal $\\alpha$ values $\\leq 1$, implying that the magnetic field can play a dynamic role in the star formation process. \n",
    "\n",
    "In setting up the initial magnetic field, you can use the equation above to solve for $B$ as a function of $\\alpha$, $\\rho$, and $c_s$. For simple initial conditions, try setting up a uniform magnetic field in the $z$-direction. In that case $B_z=B$. \n",
    "\n",
    "We first try doing the simulation without rotation ($\\beta=0$) with a strong magnetic field ($\\alpha \\sim 0.1$).\n",
    "\n"
   ]
  },
  {
   "cell_type": "markdown",
   "metadata": {},
   "source": [
    "#### Adding alpha as a new parameter \n",
    "\n",
    "Inside Simulation_init(): \n",
    "~~~fortran\n",
    "call RuntimeParameters_get('alpha',alpha) ! thermal-to-magnetic pressure ratio\n",
    "~~~\n",
    "Inside Simulation_data: \n",
    "~~~fortran\n",
    "real, save :: sim_rhoLeft, sim_rhoRight, sim_pLeft, sim_pRight, fattening_factor,beta_param,alpha\n",
    "~~~\n",
    "\n",
    "Inside Config declare new variable: \n",
    "    \n",
    "    PARAMETER alpha REAL 1."
   ]
  },
  {
   "cell_type": "markdown",
   "metadata": {},
   "source": [
    "# Initializing magnetic fields in Simulation_initBlock.F90"
   ]
  },
  {
   "cell_type": "markdown",
   "metadata": {},
   "source": [
    "~~~fortran\n",
    "use Simulation_data, ONLY: sim_smallX, sim_gamma, sim_smallP,fattening_factor,beta_param,alpha\n",
    "~~~"
   ]
  },
  {
   "cell_type": "code",
   "execution_count": 10,
   "metadata": {
    "collapsed": false
   },
   "outputs": [
    {
     "data": {
      "text/plain": [
       "25.132741228718345"
      ]
     },
     "execution_count": 10,
     "metadata": {},
     "output_type": "execute_result"
    }
   ],
   "source": [
    "8*pi"
   ]
  },
  {
   "cell_type": "markdown",
   "metadata": {},
   "source": [
    "~~~fortran\n",
    "   ! MHD\n",
    "   Bz = sqrt(25.132*presZone/alpha)\n",
    "   call Grid_putPointData(blockId, CENTER, MAGX_VAR, EXTERIOR, axis, 0.0)\n",
    "   call Grid_putPointData(blockId, CENTER, MAGY_VAR, EXTERIOR, axis, 0.0)\n",
    "   call Grid_putPointData(blockId, CENTER, MAGZ_VAR, EXTERIOR, axis, Bz)\n",
    "~~~"
   ]
  },
  {
   "cell_type": "markdown",
   "metadata": {},
   "source": [
    "# Setting up MHD in FLASH "
   ]
  },
  {
   "cell_type": "markdown",
   "metadata": {},
   "source": [
    "There are two types of MHD solvers in FLASH: the 8 wave solver and the unsplit staggered mesh solver. Our experience caused magnetic fields to become very small during the simulation and the 8 wave solver seems to resolve that issue. \n",
    "\n",
    "Inside Config load in the 8 wave solver:\n",
    "~~~fortran\n",
    "REQUESTS physics/Hydro/HydroMain/split/MHD_8Wave\n",
    "~~~\n",
    "\n",
    "To use these solvers include the flag +8wave in ./setup: \n",
    "\n",
    "    ./setup MHDRotatingSinkSphere -3d +8wave --maxblock=500 -auto ; cd object/;make -j8;"
   ]
  },
  {
   "cell_type": "markdown",
   "metadata": {},
   "source": [
    "# Analyzing MHD data with yt"
   ]
  },
  {
   "cell_type": "markdown",
   "metadata": {},
   "source": [
    "During MHD runs, FLASH stores 3 extra variable for $B_{x,y,z}$. We can look at the derived field to see some additional interesting fields: "
   ]
  },
  {
   "cell_type": "code",
   "execution_count": 1,
   "metadata": {
    "collapsed": false
   },
   "outputs": [
    {
     "name": "stdout",
     "output_type": "stream",
     "text": [
      "Populating the interactive namespace from numpy and matplotlib\n"
     ]
    }
   ],
   "source": [
    "%pylab inline \n",
    "from scripts.plotSim import *"
   ]
  },
  {
   "cell_type": "code",
   "execution_count": 2,
   "metadata": {
    "collapsed": false
   },
   "outputs": [
    {
     "name": "stdout",
     "output_type": "stream",
     "text": [
      "/global/project/projectdirs/astro250/dlee/FLASH4.3/object\n"
     ]
    }
   ],
   "source": [
    "cd ~/proj/dlee/FLASH4.3/object/"
   ]
  },
  {
   "cell_type": "code",
   "execution_count": 4,
   "metadata": {
    "collapsed": false
   },
   "outputs": [
    {
     "name": "stdout",
     "output_type": "stream",
     "text": [
      "sphere.log\r\n"
     ]
    }
   ],
   "source": [
    "ls sphere.log"
   ]
  },
  {
   "cell_type": "code",
   "execution_count": 3,
   "metadata": {
    "collapsed": false
   },
   "outputs": [
    {
     "ename": "YTOutputNotIdentified",
     "evalue": "Supplied ('sphere_hdf5_chk_0000',) {}, but could not load!",
     "output_type": "error",
     "traceback": [
      "\u001b[1;31m\u001b[0m",
      "\u001b[1;31mYTOutputNotIdentified\u001b[0mTraceback (most recent call last)",
      "\u001b[1;32m<ipython-input-3-8c247fb81abc>\u001b[0m in \u001b[0;36m<module>\u001b[1;34m()\u001b[0m\n\u001b[1;32m----> 1\u001b[1;33m \u001b[0mplot_dens\u001b[0m\u001b[1;33m(\u001b[0m\u001b[1;36m0\u001b[0m\u001b[1;33m,\u001b[0m\u001b[0mmagnetic\u001b[0m\u001b[1;33m=\u001b[0m\u001b[0mTrue\u001b[0m\u001b[1;33m)\u001b[0m\u001b[1;33m\u001b[0m\u001b[0m\n\u001b[0m",
      "\u001b[1;32mscripts/plotSim.py\u001b[0m in \u001b[0;36mplot_dens\u001b[1;34m(i, fname, plane, velocity, grid, zmin, zmax, magnetic, particle, zoom, save_path)\u001b[0m\n",
      "\u001b[1;32m/global/homes/d/dorislee/anaconda/lib/python2.7/site-packages/yt/convenience.pyc\u001b[0m in \u001b[0;36mload\u001b[1;34m(*args, **kwargs)\u001b[0m\n\u001b[0;32m     94\u001b[0m                 \u001b[1;32mreturn\u001b[0m \u001b[0moutput_type_registry\u001b[0m\u001b[1;33m[\u001b[0m\u001b[0mn\u001b[0m\u001b[1;33m]\u001b[0m\u001b[1;33m(\u001b[0m\u001b[0mfn\u001b[0m\u001b[1;33m)\u001b[0m\u001b[1;33m\u001b[0m\u001b[0m\n\u001b[0;32m     95\u001b[0m         \u001b[0mmylog\u001b[0m\u001b[1;33m.\u001b[0m\u001b[0merror\u001b[0m\u001b[1;33m(\u001b[0m\u001b[1;34m\"Couldn't figure out output type for %s\"\u001b[0m\u001b[1;33m,\u001b[0m \u001b[0margs\u001b[0m\u001b[1;33m[\u001b[0m\u001b[1;36m0\u001b[0m\u001b[1;33m]\u001b[0m\u001b[1;33m)\u001b[0m\u001b[1;33m\u001b[0m\u001b[0m\n\u001b[1;32m---> 96\u001b[1;33m         \u001b[1;32mraise\u001b[0m \u001b[0mYTOutputNotIdentified\u001b[0m\u001b[1;33m(\u001b[0m\u001b[0margs\u001b[0m\u001b[1;33m,\u001b[0m \u001b[0mkwargs\u001b[0m\u001b[1;33m)\u001b[0m\u001b[1;33m\u001b[0m\u001b[0m\n\u001b[0m\u001b[0;32m     97\u001b[0m \u001b[1;33m\u001b[0m\u001b[0m\n\u001b[0;32m     98\u001b[0m     \u001b[0mmylog\u001b[0m\u001b[1;33m.\u001b[0m\u001b[0merror\u001b[0m\u001b[1;33m(\u001b[0m\u001b[1;34m\"Multiple output type candidates for %s:\"\u001b[0m\u001b[1;33m,\u001b[0m \u001b[0margs\u001b[0m\u001b[1;33m[\u001b[0m\u001b[1;36m0\u001b[0m\u001b[1;33m]\u001b[0m\u001b[1;33m)\u001b[0m\u001b[1;33m\u001b[0m\u001b[0m\n",
      "\u001b[1;31mYTOutputNotIdentified\u001b[0m: Supplied ('sphere_hdf5_chk_0000',) {}, but could not load!"
     ]
    }
   ],
   "source": [
    "plot_dens(0,magnetic=True)"
   ]
  },
  {
   "cell_type": "markdown",
   "metadata": {},
   "source": [
    "Note that FLASH solves the MHD equations in non-dimensional scheme, which means that $B_{\\rm simulation} = \\frac{B_{\\rm actual}}{\\sqrt{4\\pi}}$. By default, yt assumes cgs and does not recognize this factor of $\\sqrt{4\\pi}$ when computing the magnetic pressure and strengths, so we need to include this factor. We can check that $\\alpha$ correspond to our input parameter : \n"
   ]
  },
  {
   "cell_type": "markdown",
   "metadata": {},
   "source": [
    "\n"
   ]
  }
 ],
 "metadata": {
  "kernelspec": {
   "display_name": "Python 2",
   "language": "python",
   "name": "python2"
  },
  "language_info": {
   "codemirror_mode": {
    "name": "ipython",
    "version": 2
   },
   "file_extension": ".py",
   "mimetype": "text/x-python",
   "name": "python",
   "nbconvert_exporter": "python",
   "pygments_lexer": "ipython2",
   "version": "2.7.11"
  }
 },
 "nbformat": 4,
 "nbformat_minor": 0
}
